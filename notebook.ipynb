{
 "cells": [
  {
   "cell_type": "code",
   "execution_count": 8,
   "metadata": {},
   "outputs": [],
   "source": [
    "import pandas as pd\n",
    "import numpy as np\n",
    "import matplotlib.pyplot as plt\n",
    "\n",
    "\n",
    "class Isochronal:\n",
    "\n",
    "    def __init__(self, data, Pr, q_column, psd_column, Qstable, Pwfstable):\n",
    "\n",
    "        self.data = data\n",
    "        self.q_column = q_column\n",
    "        self.psd_column = psd_column\n",
    "        self.Qstable = Qstable\n",
    "        self.Pwfstable = Pwfstable\n",
    "        self.Pr = Pr\n",
    "\n",
    "        global slope\n",
    "        global intercept\n",
    "\n",
    "        slope = np.polyfit(np.log(self.data[q_column]), np.log(self.data[psd_column]), 1)[0]\n",
    "        intercept = np.polyfit(np.log(self.data[q_column]), np.log(self.data[psd_column]), 1)[1]\n",
    "\n",
    "    def n_factor(self):\n",
    "\n",
    "        return round(1 / slope, 4)\n",
    "\n",
    "    def c_factor(self):\n",
    "\n",
    "        return round(self.Qstable / (self.Pr ** 2 - self.Pwfstable ** 2) ** self.n_factor(), 4)\n",
    "\n",
    "    def IPR_equation(self):\n",
    "\n",
    "        return f\"Qg = {round(self.c_factor(), 4)}(Pr^2 - Pwf^2)^{round(self.n_factor(), 4)}\"\n",
    "\n",
    "    def pressure_squared_graph(self):\n",
    "\n",
    "        plt.figure(figsize=(8, 6))\n",
    "        plt.loglog(self.data[self.q_column], self.data[self.psd_column])\n",
    "\n",
    "        plt.scatter(self.data[self.q_column], self.data[self.psd_column], color='r')\n",
    "        plt.xlabel('Qg, Mscf/d')\n",
    "        plt.ylabel('Pressure squared, psi^2')\n",
    "        plt.show()\n",
    "\n",
    "    def AOF(self):\n",
    "\n",
    "        Qmax = self.c_factor() * ((self.Pr ** 2 - 14.73 ** 2) ** self.n_factor())\n",
    "\n",
    "        return round(Qmax, 4)"
   ]
  },
  {
   "cell_type": "code",
   "execution_count": 10,
   "metadata": {},
   "outputs": [
    {
     "name": "stdout",
     "output_type": "stream",
     "text": [
      "   Period    Qg     P     psq\n",
      "0       1  1800  1768  106980\n",
      "1       2  3000  1747  180795\n",
      "2       3  6200  1682  403680\n"
     ]
    }
   ],
   "source": [
    "df = pd.read_csv('test_data.csv')\n",
    "df['psq'] = 1798 ** 2 - df['P'] ** 2\n",
    "print(df.head())"
   ]
  },
  {
   "cell_type": "code",
   "execution_count": 11,
   "metadata": {},
   "outputs": [
    {
     "name": "stdout",
     "output_type": "stream",
     "text": [
      "n = 0.9294\n",
      "c = 0.0241\n",
      "IPR equation is Qg = 0.0241(Pr^2 - Pwf^2)^0.9294\n",
      "AOF = 27039.1492\n"
     ]
    },
    {
     "data": {
      "image/png": "[encoded data removed]",
      "text/plain": [
       "<Figure size 576x432 with 1 Axes>"
      ]
     },
     "metadata": {
      "needs_background": "light"
     },
     "output_type": "display_data"
    },
    {
     "name": "stdout",
     "output_type": "stream",
     "text": [
      "None\n"
     ]
    }
   ],
   "source": [
    "iso = Isochronal(df, 1798, 'Qg', 'psq', 6300, 1600)\n",
    "print(\"n =\", iso.n_factor())\n",
    "print(\"c =\", iso.c_factor())\n",
    "print(\"IPR equation is\", iso.IPR_equation())\n",
    "print(\"AOF =\", iso.AOF())\n",
    "print(iso.pressure_squared_graph())"
   ]
  },
  {
   "cell_type": "code",
   "execution_count": null,
   "metadata": {},
   "outputs": [],
   "source": []
  }
 ],
 "metadata": {
  "kernelspec": {
   "display_name": "Python 3",
   "language": "python",
   "name": "python3"
  },
  "language_info": {
   "codemirror_mode": {
    "name": "ipython",
    "version": 3
   },
   "file_extension": ".py",
   "mimetype": "text/x-python",
   "name": "python",
   "nbconvert_exporter": "python",
   "pygments_lexer": "ipython3",
   "version": "3.7.6"
  }
 },
 "nbformat": 4,
 "nbformat_minor": 4
}
