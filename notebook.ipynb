{
 "cells": [
  {
   "cell_type": "code",
   "execution_count": 5,
   "metadata": {},
   "outputs": [],
   "source": [
    "# import libraries\n",
    "import numpy as np\n",
    "import matplotlib.pyplot as plt\n",
    "import seaborn as sns\n",
    "\n",
    "\n",
    "# create the Isochronal test class\n",
    "class Isochronal:\n",
    "    \"\"\"\n",
    "        Isochronal class that calculates the well deliveribility potential of a gas well \\\n",
    "        when given the required input parameters.\n",
    "\n",
    "        Args:\n",
    "             data (pandas dataframe) --> The Isochronal well test data\n",
    "             Pr (float dtype) --> Reservoir Pressure, Psi of the well\n",
    "             q_column (str dtype)--> flowrate column title in the data\n",
    "             psd_column (str dtype) --> Pressure squared column title in the data\n",
    "             Qstable (float dtype) --> stabilized flowrate, Mscf/d\n",
    "             Pwfstable (float dtype) --> stabilized bottomhole flowing pressure, Psi\n",
    "    \"\"\"\n",
    "    def __init__(self, data, Pr, q_column, psd_column, Qstable, Pwfstable):\n",
    "\n",
    "        # initialize the input parameters\n",
    "        self.data = data\n",
    "        self.q_column = q_column\n",
    "        self.psd_column = psd_column\n",
    "        self.Qstable = Qstable\n",
    "        self.Pwfstable = Pwfstable\n",
    "        self.Pr = Pr\n",
    "\n",
    "        # globalize slope and intercept\n",
    "        global slope\n",
    "        global intercept\n",
    "\n",
    "        # calculate the slope and the intercept values\n",
    "        slope = np.polyfit(np.log(self.data[q_column]), np.log(self.data[psd_column]), 1)[0]\n",
    "        intercept = np.polyfit(np.log(self.data[q_column]), np.log(self.data[psd_column]), 1)[1]\n",
    "\n",
    "    def n_factor(self):\n",
    "        \"\"\"\n",
    "           Method that calculates the n-factor of the Isochronal test.\n",
    "\n",
    "           Args:\n",
    "               None\n",
    "\n",
    "           Returns:\n",
    "               float dtype: n-factor value\n",
    "        \"\"\"\n",
    "        n = 1 / slope\n",
    "\n",
    "        return round(n, 4)\n",
    "\n",
    "    def c_factor(self):\n",
    "        \"\"\"\n",
    "           Method that calculates the c-factor of the Isochronal test.\n",
    "\n",
    "           Args:\n",
    "               None\n",
    "\n",
    "           Returns:\n",
    "               float dtype: c-factor value\n",
    "                \"\"\"\n",
    "        c = self.Qstable / (self.Pr ** 2 - self.Pwfstable ** 2) ** self.n_factor()\n",
    "\n",
    "        return round(c, 4)\n",
    "\n",
    "    def IPR(self):\n",
    "        \"\"\"\n",
    "           Method outputs the Inflow Performance Relation of the Isochronal test.\n",
    "\n",
    "           Args:\n",
    "               None\n",
    "\n",
    "           Returns:\n",
    "               str dtype: IPR equation\n",
    "        \"\"\"\n",
    "        return f\"Qg = {self.c_factor()}(Pr^2 - Pwf^2)^{self.n_factor()}\"\n",
    "\n",
    "    def pressure_squared_graph(self):\n",
    "        \"\"\"\n",
    "           Method displays the pressure squared against the flowrate\n",
    "\n",
    "           Args:\n",
    "               None\n",
    "\n",
    "           Returns:\n",
    "               image: a graphical representation\n",
    "        \"\"\"\n",
    "        # set up the figure sizes\n",
    "        plt.figure(figsize=(8, 6))\n",
    "        plt.style.use('grayscale')\n",
    "\n",
    "        # plot of the log-log graph\n",
    "        plt.loglog(self.data[self.q_column], self.data[self.psd_column])\n",
    "\n",
    "        # the scatter plot\n",
    "        plt.scatter(self.data[self.q_column], self.data[self.psd_column], color='r')\n",
    "\n",
    "        # define the labels for the graph\n",
    "        plt.title(\"Isochronal Plot (Using Pressure Squared Approach)\", fontweight='bold', fontsize=20)\n",
    "        plt.xlabel('Qg, Mscf/d', fontweight='bold', fontsize=15)\n",
    "        plt.ylabel('Pressure squared, psi^2', fontweight='bold', fontsize=15)\n",
    "        plt.grid(visible=True)\n",
    "        plt.show()\n",
    "\n",
    "    def AOF(self):\n",
    "\n",
    "        Qmax = self.c_factor() * ((self.Pr ** 2 - 14.73 ** 2) ** self.n_factor())\n",
    "\n",
    "        return round(Qmax, 4)\n"
   ]
  },
  {
   "cell_type": "code",
   "execution_count": 6,
   "metadata": {},
   "outputs": [
    {
     "data": {
      "text/html": [
       "<div>\n",
       "<style scoped>\n",
       "    .dataframe tbody tr th:only-of-type {\n",
       "        vertical-align: middle;\n",
       "    }\n",
       "\n",
       "    .dataframe tbody tr th {\n",
       "        vertical-align: top;\n",
       "    }\n",
       "\n",
       "    .dataframe thead th {\n",
       "        text-align: right;\n",
       "    }\n",
       "</style>\n",
       "<table border=\"1\" class=\"dataframe\">\n",
       "  <thead>\n",
       "    <tr style=\"text-align: right;\">\n",
       "      <th></th>\n",
       "      <th>Period</th>\n",
       "      <th>Qg</th>\n",
       "      <th>P</th>\n",
       "      <th>psq</th>\n",
       "    </tr>\n",
       "  </thead>\n",
       "  <tbody>\n",
       "    <tr>\n",
       "      <th>0</th>\n",
       "      <td>1</td>\n",
       "      <td>1800</td>\n",
       "      <td>1768</td>\n",
       "      <td>106980</td>\n",
       "    </tr>\n",
       "    <tr>\n",
       "      <th>1</th>\n",
       "      <td>2</td>\n",
       "      <td>3000</td>\n",
       "      <td>1747</td>\n",
       "      <td>180795</td>\n",
       "    </tr>\n",
       "    <tr>\n",
       "      <th>2</th>\n",
       "      <td>3</td>\n",
       "      <td>6200</td>\n",
       "      <td>1682</td>\n",
       "      <td>403680</td>\n",
       "    </tr>\n",
       "  </tbody>\n",
       "</table>\n",
       "</div>"
      ],
      "text/plain": [
       "   Period    Qg     P     psq\n",
       "0       1  1800  1768  106980\n",
       "1       2  3000  1747  180795\n",
       "2       3  6200  1682  403680"
      ]
     },
     "execution_count": 6,
     "metadata": {},
     "output_type": "execute_result"
    }
   ],
   "source": [
    "import pandas as pd\n",
    "df = pd.read_csv('test_data.csv')\n",
    "df['psq'] = 1798 ** 2 - df['P'] ** 2\n",
    "df.head()"
   ]
  },
  {
   "cell_type": "code",
   "execution_count": 7,
   "metadata": {},
   "outputs": [
    {
     "name": "stdout",
     "output_type": "stream",
     "text": [
      "n = 0.9294\n",
      "c = 0.0241\n",
      "IPR equation is: Qg = 0.0241(Pr^2 - Pwf^2)^0.9294\n",
      "AOF = 27039.1492Mscf/d\n"
     ]
    }
   ],
   "source": [
    "# from IsochronalTest import Isochronal\n",
    "\n",
    "iso = Isochronal(df, 1798, 'Qg', 'psq', 6300, 1600)\n",
    "print(f\"n = {iso.n_factor()}\")\n",
    "print(f\"c = {iso.c_factor()}\")\n",
    "print(f\"IPR equation is: {iso.IPR()}\")\n",
    "print(f\"AOF = {iso.AOF()}Mscf/d\", )"
   ]
  },
  {
   "cell_type": "code",
   "execution_count": 8,
   "metadata": {},
   "outputs": [
    {
     "data": {
      "image/png": "[encoded data removed]",
      "text/plain": [
       "<Figure size 576x432 with 1 Axes>"
      ]
     },
     "metadata": {},
     "output_type": "display_data"
    }
   ],
   "source": [
    "iso.pressure_squared_graph()"
   ]
  },
  {
   "cell_type": "code",
   "execution_count": null,
   "metadata": {},
   "outputs": [],
   "source": []
  }
 ],
 "metadata": {
  "kernelspec": {
   "display_name": "Python 3",
   "language": "python",
   "name": "python3"
  },
  "language_info": {
   "codemirror_mode": {
    "name": "ipython",
    "version": 3
   },
   "file_extension": ".py",
   "mimetype": "text/x-python",
   "name": "python",
   "nbconvert_exporter": "python",
   "pygments_lexer": "ipython3",
   "version": "3.7.6"
  }
 },
 "nbformat": 4,
 "nbformat_minor": 4
}
